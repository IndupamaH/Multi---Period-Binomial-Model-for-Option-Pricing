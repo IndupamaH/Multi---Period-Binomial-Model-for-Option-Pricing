{
 "cells": [
  {
   "cell_type": "markdown",
   "id": "cfbd386e",
   "metadata": {},
   "source": [
    "# Multi - Period Binomial Model for Option Pricing\n",
    "\n",
    "\n",
    "This workbook looks at multi period binomiaal option pricing model. Here the binomial tree is considered as a network with node (i, j) where i is the time step and j is the level of the tree. For example two period binomial tree will have i = {0, 1, 2} time steps and j = {0, 1, 2, 3} levels. \n",
    "\n",
    "To price the option we apply the following formula recurrsively backwards. \n",
    "\n",
    "* Risk neutral probability formula for one period binomiial model\n",
    "$$\\tilde{p} = \\frac{e^{rT}-d}{u-d}$$ \n",
    "\n",
    "* Delta-hedging formula\n",
    "$$\\delta = \\frac{C_u-C_d}{S_u-S_d}$$\n",
    "\n",
    "* Derivative security that pays V_N at time N should be priced at \n",
    "$$C_{N-1} = \n",
    "e^{-rT}(\\tilde{p} C_u^N +(1-\\tilde{p})C_d^N)$$ at time $N-1$\n",
    "\n",
    "where \n",
    "\n",
    "$r$ = annual risk-free interest rate, $T$ = maturity time, $S_0$ = initial stock price, $C_u$ and $C_d$ are the up and down payoff values at the time of maturity. "
   ]
  },
  {
   "cell_type": "markdown",
   "id": "20e2c403",
   "metadata": {},
   "source": [
    "## Binomial Tree Representation\n",
    "\n",
    "Stock tree can be represented using nodes $(i,j)$ and intial stock price $S_0$\n",
    "\n",
    "$S_{i,j} = S_0u^{j}d^{i-j}$\n",
    "\n",
    "$C_{i,j}$ represents contract price at each node $(i,j)$. Where $C_{N,j}$ represents final payoff function that we can define based on the option types considered.\n",
    "\n",
    "For this work we will price a\n",
    "1. European call option, so $C_{N,j} = max(S_{N,j}-K,0)$ and\n",
    "2. European put option, so $C_{N,j} = max(K-S_{N,j},0)$\n",
    "\n",
    "The next section will describe how to implement the model to price American call and put options. The difference between American and the European options is that while European options are exercised only at maturity, American options can be exercised at any time during the time period. \n",
    "\n",
    "\n"
   ]
  },
  {
   "cell_type": "code",
   "execution_count": 8,
   "id": "a0199272",
   "metadata": {},
   "outputs": [],
   "source": [
    "import numpy as np\n",
    "import math"
   ]
  },
  {
   "cell_type": "code",
   "execution_count": 46,
   "id": "ef343b43",
   "metadata": {},
   "outputs": [],
   "source": [
    "#pay off functions for European Call option\n",
    "def pay_off_call(S, K, N):\n",
    "    C = np.maximum( S - K , np.zeros(N+1) )\n",
    "    return C\n",
    "\n",
    "#pay off functions for European Put option\n",
    "def pay_off_put(S, K, N):\n",
    "    C = np.maximum( K-S , np.zeros(N+1) )\n",
    "    return C"
   ]
  },
  {
   "cell_type": "code",
   "execution_count": 47,
   "id": "4ab653c0",
   "metadata": {},
   "outputs": [],
   "source": [
    "# Initialise parameters\n",
    "S0 = 100      # initial stock price\n",
    "K = 100       # strike price\n",
    "T = 1         # time to maturity in years\n",
    "r = 0.06     # annual risk-free rate\n",
    "N = 3        # number of time steps\n",
    "u = 1.1       # up-factor in binomial models\n",
    "d = 1/u       # ensure recombining tree\n",
    "#opttype = 'C' # Option Type 'C' or 'P'"
   ]
  },
  {
   "cell_type": "markdown",
   "id": "7743cd47",
   "metadata": {},
   "source": [
    "# European call option pricing"
   ]
  },
  {
   "cell_type": "code",
   "execution_count": 48,
   "id": "30c6cd7e",
   "metadata": {},
   "outputs": [
    {
     "data": {
      "text/plain": [
       "10.145735799928826"
      ]
     },
     "execution_count": 48,
     "metadata": {},
     "output_type": "execute_result"
    }
   ],
   "source": [
    "def binomial_tree_fast(K,T,S0,r,N,u,d):   \n",
    "    #precompute constants\n",
    "    dt = T/N\n",
    "    p = (math.exp(r*dt)-d)/(u-d) \n",
    "    disc = math.exp(-r*dt)\n",
    "\n",
    "    # initialise asset prices at maturity - Time step N\n",
    "    S = S0 * d ** (np.arange(N,-1,-1)) * u ** (np.arange(0,N+1,1))\n",
    "\n",
    "    # initialise option values at maturity\n",
    "    C = pay_off_call(S, K, N)\n",
    "\n",
    "    # step backwards through tree\n",
    "    for i in np.arange(N,0,-1):\n",
    "        C = disc * ( p * C[1:i+1] + (1-p) * C[0:i] )\n",
    "\n",
    "    return C[0]\n",
    "\n",
    "binomial_tree_fast(K,T,S0,r,N,u,d)   "
   ]
  },
  {
   "cell_type": "markdown",
   "id": "03bb6073",
   "metadata": {},
   "source": [
    "# European put option pricing"
   ]
  },
  {
   "cell_type": "code",
   "execution_count": 49,
   "id": "79702c9d",
   "metadata": {},
   "outputs": [
    {
     "data": {
      "text/plain": [
       "4.322189158353709"
      ]
     },
     "execution_count": 49,
     "metadata": {},
     "output_type": "execute_result"
    }
   ],
   "source": [
    "def binomial_tree_fast(K,T,S0,r,N,u,d):   \n",
    "    #precompute constants\n",
    "    dt = T/N\n",
    "    p = (math.exp(r*dt)-d)/(u-d) \n",
    "    disc = math.exp(-r*dt)\n",
    "    \n",
    "    # initialise asset prices at maturity - Time step N\n",
    "    S = S0 * d ** (np.arange(N,-1,-1)) * u ** (np.arange(0,N+1,1))\n",
    "\n",
    "    # initialise option values at maturity\n",
    "    C = pay_off_put(S, K, N)\n",
    "\n",
    "    # step backwards through tree\n",
    "    for i in np.arange(N,0,-1):\n",
    "        C = disc * ( p * C[1:i+1] + (1-p) * C[0:i] )\n",
    "\n",
    "    return C[0]\n",
    "\n",
    "binomial_tree_fast(K,T,S0,r,N,u,d)  "
   ]
  },
  {
   "cell_type": "markdown",
   "id": "598f0b3d",
   "metadata": {},
   "source": [
    "# American call option pricing"
   ]
  },
  {
   "cell_type": "code",
   "execution_count": 50,
   "id": "10144e7b",
   "metadata": {},
   "outputs": [
    {
     "data": {
      "text/plain": [
       "13.059135847285697"
      ]
     },
     "execution_count": 50,
     "metadata": {},
     "output_type": "execute_result"
    }
   ],
   "source": [
    "def binomial_tree_fast(K,T,S0,r,N,u,d):   \n",
    "    #precompute constants\n",
    "    dt = T/N\n",
    "    p = (math.exp(r*dt)-d)/(u-d) \n",
    "    disc = math.exp(-r*dt)\n",
    "    \n",
    "    # initialise asset prices at maturity - Time step N\n",
    "    S = S0 * d ** (np.arange(N,-1,-1)) * u ** (np.arange(0,N+1,1))\n",
    "    \n",
    "    # initialise option values at maturity\n",
    "    C = pay_off_call(S, K, N)\n",
    "    \n",
    "    # step backwards through tree\n",
    "    for i in np.arange(N,0,-1):\n",
    "        for j in range(i):\n",
    "            C[j] = disc * ( p * C[j+1] + (1-p) * C[j] )\n",
    "            S[j] = S[j]/d\n",
    "            C[j] = max(C[j], K-S[j])\n",
    "    return C[0]\n",
    "\n",
    "binomial_tree_fast(K,T,S0,r,N,u,d) "
   ]
  },
  {
   "cell_type": "markdown",
   "id": "7bbebb5e",
   "metadata": {},
   "source": [
    "# American put option pricing"
   ]
  },
  {
   "cell_type": "code",
   "execution_count": 51,
   "id": "1ad873fb",
   "metadata": {},
   "outputs": [
    {
     "data": {
      "text/plain": [
       "4.654588754602527"
      ]
     },
     "execution_count": 51,
     "metadata": {},
     "output_type": "execute_result"
    }
   ],
   "source": [
    "def binomial_tree_fast(K,T,S0,r,N,u,d):   \n",
    "    #precompute constants\n",
    "    dt = T/N\n",
    "    p = (math.exp(r*dt)-d)/(u-d) \n",
    "    disc = math.exp(-r*dt)\n",
    "    \n",
    "    # initialise asset prices at maturity - Time step N\n",
    "    S = S0 * d ** (np.arange(N,-1,-1)) * u ** (np.arange(0,N+1,1))\n",
    "    \n",
    "    # initialise option values at maturity\n",
    "    C = pay_off_Euro_put(S, K, N)\n",
    "    \n",
    "    # step backwards through tree\n",
    "    for i in np.arange(N,0,-1):\n",
    "        for j in range(i):\n",
    "            C[j] = disc * ( p * C[j+1] + (1-p) * C[j] )\n",
    "            S[j] = S[j]/d\n",
    "            C[j] = max(C[j], K-S[j])\n",
    "    return C[0]\n",
    "\n",
    "binomial_tree_fast(K,T,S0,r,N,u,d) "
   ]
  },
  {
   "cell_type": "markdown",
   "id": "f4a55f3c",
   "metadata": {},
   "source": [
    "# Reference\n",
    "\n",
    "\"Implementing Derivatives Models\" by Les Clewlow and Chris Strickland"
   ]
  }
 ],
 "metadata": {
  "kernelspec": {
   "display_name": "Python 3 (ipykernel)",
   "language": "python",
   "name": "python3"
  },
  "language_info": {
   "codemirror_mode": {
    "name": "ipython",
    "version": 3
   },
   "file_extension": ".py",
   "mimetype": "text/x-python",
   "name": "python",
   "nbconvert_exporter": "python",
   "pygments_lexer": "ipython3",
   "version": "3.9.13"
  }
 },
 "nbformat": 4,
 "nbformat_minor": 5
}
